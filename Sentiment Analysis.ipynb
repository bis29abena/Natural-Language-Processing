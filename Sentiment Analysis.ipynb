{
 "cells": [
  {
   "cell_type": "code",
   "execution_count": 34,
   "id": "c3657352",
   "metadata": {},
   "outputs": [
    {
     "name": "stdout",
     "output_type": "stream",
     "text": [
      "saue the king 0.3384395370134248\n",
      "god saue the 0.3384395370134248\n",
      "rosse god saue 0.3384395370134248\n",
      "saue the 0.3384395370134248\n",
      "god saue 0.3384395370134248\n",
      "rosse god 0.3384395370134248\n",
      "saue 0.3384395370134248\n",
      "god 0.24567384555767907\n",
      "rosse 0.17991470615674238\n",
      "the king 0.25395297241495063\n",
      "king 0.17696970761113529\n",
      "the 0.09836375862097828\n"
     ]
    }
   ],
   "source": [
    "from nltk.corpus import gutenberg\n",
    "from nltk.sentiment.vader import SentimentIntensityAnalyzer\n",
    "\n",
    "from sklearn.feature_extraction.text import TfidfVectorizer\n",
    "from sklearn.preprocessing import normalize\n",
    "\n",
    "\n",
    "def removeNoise(input_text):\n",
    "    noise_list = [\"is\", \"a\", \"this\", \"...\", \"we\", \"When\", \"The\"]\n",
    "    words = input_text.split()\n",
    "    noise_free_words = [word for word in words if word not in noise_list]\n",
    "    noise_free_text = \" \".join(noise_free_words)\n",
    "    return noise_free_text\n",
    "\n",
    "macbeth = gutenberg.raw(\"shakespeare-macbeth.txt\")\n",
    "macbeth = macbeth.split(\"\\n\\n\")\n",
    "# print(macbeth[0:10])\n",
    "\n",
    "macbeth = [removeNoise(line) for line in macbeth]\n",
    "# print(macbeth[0:10])\n",
    "\n",
    "sid = SentimentIntensityAnalyzer()\n",
    "# print(sid.polarity_scores(\"I really LOVE my job!!!\"))\n",
    "\n",
    "vectorizer = TfidfVectorizer(ngram_range=(1,3))\n",
    "X = vectorizer.fit_transform(macbeth)\n",
    "# print(X)\n",
    "\n",
    "feature_names = vectorizer.get_feature_names_out()\n",
    "# print(feature_names)\n",
    "\n",
    "doc=21\n",
    "feature_idx = X[doc,:].nonzero()[1]\n",
    "# print(feature_idx)\n",
    "tfidf_scores = zip(feature_idx, [X[doc, x] for x in feature_idx])\n",
    "# print(tfidf_scores)\n",
    "for w, s in [(feature_names[i], s) for (i, s) in tfidf_scores]:\n",
    "    print(w, s)"
   ]
  },
  {
   "cell_type": "code",
   "execution_count": null,
   "id": "12b2db2d",
   "metadata": {},
   "outputs": [],
   "source": []
  }
 ],
 "metadata": {
  "kernelspec": {
   "display_name": "Python 3 (ipykernel)",
   "language": "python",
   "name": "python3"
  },
  "language_info": {
   "codemirror_mode": {
    "name": "ipython",
    "version": 3
   },
   "file_extension": ".py",
   "mimetype": "text/x-python",
   "name": "python",
   "nbconvert_exporter": "python",
   "pygments_lexer": "ipython3",
   "version": "3.11.5"
  }
 },
 "nbformat": 4,
 "nbformat_minor": 5
}
