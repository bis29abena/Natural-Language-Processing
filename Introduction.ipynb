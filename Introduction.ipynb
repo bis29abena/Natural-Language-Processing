{
 "cells": [
  {
   "cell_type": "code",
   "execution_count": 7,
   "id": "7aa8a964",
   "metadata": {},
   "outputs": [
    {
     "name": "stdout",
     "output_type": "stream",
     "text": [
      "dance\n",
      "danc\n",
      "['Today', 'I', 'started', 'learning', 'NLP', '!']\n",
      "[('Today', 'NN'), ('I', 'PRP'), ('started', 'VBD'), ('learning', 'VBG'), ('NLP', 'NN'), ('!', '.')]\n"
     ]
    }
   ],
   "source": [
    "import nltk\n",
    "\n",
    "from nltk import word_tokenize, pos_tag\n",
    "from nltk.stem.wordnet import WordNetLemmatizer\n",
    "from nltk.stem.porter import PorterStemmer\n",
    "\n",
    "lem = WordNetLemmatizer()\n",
    "stem = PorterStemmer()\n",
    "\n",
    "print(lem.lemmatize(\"dancing\", \"v\"))\n",
    "print(stem.stem(\"dancing\"))\n",
    "\n",
    "phrase = \"Today I started learning NLP!\"\n",
    "tokens = word_tokenize(phrase)\n",
    "\n",
    "print(tokens)\n",
    "print(pos_tag(tokens))"
   ]
  },
  {
   "cell_type": "code",
   "execution_count": null,
   "id": "0179bb6f",
   "metadata": {},
   "outputs": [],
   "source": []
  }
 ],
 "metadata": {
  "kernelspec": {
   "display_name": "Python 3 (ipykernel)",
   "language": "python",
   "name": "python3"
  },
  "language_info": {
   "codemirror_mode": {
    "name": "ipython",
    "version": 3
   },
   "file_extension": ".py",
   "mimetype": "text/x-python",
   "name": "python",
   "nbconvert_exporter": "python",
   "pygments_lexer": "ipython3",
   "version": "3.11.5"
  }
 },
 "nbformat": 4,
 "nbformat_minor": 5
}
