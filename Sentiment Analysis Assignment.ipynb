{
 "cells": [
  {
   "cell_type": "markdown",
   "id": "b1215265",
   "metadata": {},
   "source": [
    "1. Compare the average sentiments between to bodies of text\n",
    "\n",
    "2. Create a function that accepts large pieces of text and calculate the average sentiment for each block of text separated by two line breaks.\n",
    "\n",
    "3. Calculate the average positive, negative, neutral and compound sentiments for each separated text\n",
    "\n",
    "4. Compare each average sentiment value across each body of text and interpret the difference"
   ]
  },
  {
   "cell_type": "code",
   "execution_count": 4,
   "id": "4553d145",
   "metadata": {},
   "outputs": [
    {
     "name": "stdout",
     "output_type": "stream",
     "text": [
      "Sentiment, Ceasar, Macbeth\n",
      "neg 0.05308053691275168 0.0560279823269514\n",
      "pos 0.08482281879194631 0.0752577319587629\n",
      "neu 0.8607664429530201 0.8672326951399117\n",
      "compound 0.09213060402684563 0.05960957290132548\n"
     ]
    }
   ],
   "source": [
    "from nltk.corpus import gutenberg\n",
    "from nltk.sentiment.vader import SentimentIntensityAnalyzer\n",
    "\n",
    "import numpy as np\n",
    "\n",
    "sid = SentimentIntensityAnalyzer()\n",
    "\n",
    "def sentAnalyze(corpus_name):\n",
    "    sentDict = {\"neg\": [], \"pos\": [], \"neu\": [], \"compound\": []}\n",
    "    corpus = gutenberg.raw(corpus_name)\n",
    "    corpus = corpus.split(\"\\n\\n\")\n",
    "    \n",
    "    for corp in corpus:\n",
    "        corp = corp.strip()\n",
    "        \n",
    "        if corp == \" \":\n",
    "            continue\n",
    "            \n",
    "        ss = sid.polarity_scores(corp)\n",
    "        \n",
    "        for s in ss:\n",
    "            sentDict[s].append(ss[s])\n",
    "            \n",
    "    for sent in sentDict:\n",
    "        sentDict[sent] = np.mean(sentDict[sent])\n",
    "    return sentDict\n",
    "\n",
    "ceaDict = sentAnalyze(\"shakespeare-caesar.txt\")\n",
    "macDict = sentAnalyze(\"shakespeare-macbeth.txt\")\n",
    "\n",
    "print(\"Sentiment, Ceasar, Macbeth\")\n",
    "for sent in ceaDict:\n",
    "    print(sent, ceaDict[sent], macDict[sent])"
   ]
  },
  {
   "cell_type": "code",
   "execution_count": null,
   "id": "13a63d8e",
   "metadata": {},
   "outputs": [],
   "source": []
  }
 ],
 "metadata": {
  "kernelspec": {
   "display_name": "Python 3 (ipykernel)",
   "language": "python",
   "name": "python3"
  },
  "language_info": {
   "codemirror_mode": {
    "name": "ipython",
    "version": 3
   },
   "file_extension": ".py",
   "mimetype": "text/x-python",
   "name": "python",
   "nbconvert_exporter": "python",
   "pygments_lexer": "ipython3",
   "version": "3.11.5"
  }
 },
 "nbformat": 4,
 "nbformat_minor": 5
}
