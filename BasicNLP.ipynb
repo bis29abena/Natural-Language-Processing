{
 "cells": [
  {
   "cell_type": "code",
   "execution_count": 10,
   "metadata": {},
   "outputs": [
    {
     "name": "stdout",
     "output_type": "stream",
     "text": [
      "('When', 'the', 'Hurley')\n",
      "('the', 'Hurley', '-')\n",
      "('Hurley', '-', 'burley')\n",
      "('-', 'burley', \"'\")\n",
      "('burley', \"'\", 's')\n",
      "(\"'\", 's', 'done')\n",
      "('s', 'done', ',')\n",
      "('done', ',', 'When')\n",
      "(',', 'When', 'the')\n",
      "('When', 'the', 'Battaile')\n",
      "('the', 'Battaile', \"'\")\n",
      "('Battaile', \"'\", 's')\n",
      "(\"'\", 's', 'lost')\n",
      "('s', 'lost', ',')\n",
      "('lost', ',', 'and')\n",
      "(',', 'and', 'wonne')\n"
     ]
    }
   ],
   "source": [
    "import nltk\n",
    "from nltk.corpus import gutenberg\n",
    "from nltk import ngrams\n",
    "from nltk.sentiment.vader import SentimentIntensityAnalyzer\n",
    "\n",
    "\n",
    "def removeNoise(input_text):\n",
    "    noise_list = [\"is\", \"a\", \"this\", \"...\", \"we\", \"When\"]\n",
    "    words = input_text.split()\n",
    "    noise_free_words = [word for word in words if word not in noise_list]\n",
    "    noise_free_text = \" \".join(noise_free_words)\n",
    "    return noise_free_text\n",
    "\n",
    "nltk.corpus.gutenberg.fileids()\n",
    "macbeth_sentences = gutenberg.sents('shakespeare-macbeth.txt')\n",
    "macbeth = gutenberg.raw('shakespeare-macbeth.txt')\n",
    "macbeth = removeNoise(macbeth)\n",
    "# print(macbeth)\n",
    "\n",
    "sid = SentimentIntensityAnalyzer()\n",
    "ss = sid.polarity_scores(\"this is AWESOME!\")\n",
    "# print(ss)\n",
    "\n",
    "grams = ngrams(macbeth_sentences[9], 3)\n",
    "for g in grams:\n",
    "    print(g)"
   ]
  },
  {
   "cell_type": "code",
   "execution_count": null,
   "metadata": {},
   "outputs": [],
   "source": []
  }
 ],
 "metadata": {
  "kernelspec": {
   "display_name": "Python 3 (ipykernel)",
   "language": "python",
   "name": "python3"
  },
  "language_info": {
   "codemirror_mode": {
    "name": "ipython",
    "version": 3
   },
   "file_extension": ".py",
   "mimetype": "text/x-python",
   "name": "python",
   "nbconvert_exporter": "python",
   "pygments_lexer": "ipython3",
   "version": "3.11.5"
  }
 },
 "nbformat": 4,
 "nbformat_minor": 2
}
